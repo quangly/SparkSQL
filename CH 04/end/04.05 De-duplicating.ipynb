{
 "cells": [
  {
   "cell_type": "code",
   "execution_count": 1,
   "metadata": {
    "collapsed": true
   },
   "outputs": [],
   "source": [
    "from pyspark.sql import SparkSession\n",
    "from pyspark.sql import Row"
   ]
  },
  {
   "cell_type": "code",
   "execution_count": 2,
   "metadata": {
    "collapsed": true
   },
   "outputs": [],
   "source": [
    "df_dup = sc.parallelize([Row(server_name='101 Server', cpu_utilization=85, session_count=80), \\\n",
    "                             Row(server_name='101 Server', cpu_utilization=80, session_count=90),\n",
    "                             Row(server_name='102 Server', cpu_utilization=85, session_count=80),\n",
    "                             Row(server_name='102 Server', cpu_utilization=85, session_count=80)]).toDF()"
   ]
  },
  {
   "cell_type": "code",
   "execution_count": 3,
   "metadata": {},
   "outputs": [
    {
     "name": "stdout",
     "output_type": "stream",
     "text": [
      "+---------------+-----------+-------------+\n",
      "|cpu_utilization|server_name|session_count|\n",
      "+---------------+-----------+-------------+\n",
      "|             85| 101 Server|           80|\n",
      "|             80| 101 Server|           90|\n",
      "|             85| 102 Server|           80|\n",
      "|             85| 102 Server|           80|\n",
      "+---------------+-----------+-------------+\n",
      "\n"
     ]
    }
   ],
   "source": [
    "df_dup.show()"
   ]
  },
  {
   "cell_type": "code",
   "execution_count": 4,
   "metadata": {},
   "outputs": [
    {
     "name": "stdout",
     "output_type": "stream",
     "text": [
      "+---------------+-----------+-------------+\n",
      "|cpu_utilization|server_name|session_count|\n",
      "+---------------+-----------+-------------+\n",
      "|             85| 101 Server|           80|\n",
      "|             80| 101 Server|           90|\n",
      "|             85| 102 Server|           80|\n",
      "+---------------+-----------+-------------+\n",
      "\n"
     ]
    }
   ],
   "source": [
    "df_dup.drop_duplicates().show()"
   ]
  },
  {
   "cell_type": "code",
   "execution_count": 5,
   "metadata": {},
   "outputs": [
    {
     "name": "stdout",
     "output_type": "stream",
     "text": [
      "+---------------+-----------+-------------+\n",
      "|cpu_utilization|server_name|session_count|\n",
      "+---------------+-----------+-------------+\n",
      "|             85| 102 Server|           80|\n",
      "|             85| 101 Server|           80|\n",
      "+---------------+-----------+-------------+\n",
      "\n"
     ]
    }
   ],
   "source": [
    "df_dup.drop_duplicates(['server_name']).show()"
   ]
  }
 ],
 "metadata": {
  "kernelspec": {
   "display_name": "Python 3",
   "language": "python",
   "name": "python3"
  },
  "language_info": {
   "codemirror_mode": {
    "name": "ipython",
    "version": 3
   },
   "file_extension": ".py",
   "mimetype": "text/x-python",
   "name": "python",
   "nbconvert_exporter": "python",
   "pygments_lexer": "ipython3",
   "version": "3.6.1"
  }
 },
 "nbformat": 4,
 "nbformat_minor": 2
}
