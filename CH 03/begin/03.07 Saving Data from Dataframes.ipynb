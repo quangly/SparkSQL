{
 "cells": [
  {
   "cell_type": "code",
   "execution_count": 1,
   "metadata": {},
   "outputs": [],
   "source": [
    "from pyspark.sql import SparkSession\n",
    "data_path = '/Users/quangly/github/Spark SQL/Data'"
   ]
  },
  {
   "cell_type": "code",
   "execution_count": 2,
   "metadata": {},
   "outputs": [],
   "source": [
    "file_path = data_path + \"/location_temp.csv\"\n",
    "df1 = spark.read.format(\"csv\").option(\"header\", \"true\").load(file_path)"
   ]
  },
  {
   "cell_type": "code",
   "execution_count": 3,
   "metadata": {},
   "outputs": [
    {
     "name": "stdout",
     "output_type": "stream",
     "text": [
      "+-------------------+-----------+------------+\n",
      "|         event_date|location_id|temp_celcius|\n",
      "+-------------------+-----------+------------+\n",
      "|03/04/2019 19:48:06|       loc0|          29|\n",
      "|03/04/2019 19:53:06|       loc0|          27|\n",
      "|03/04/2019 19:58:06|       loc0|          28|\n",
      "|03/04/2019 20:03:06|       loc0|          30|\n",
      "|03/04/2019 20:08:06|       loc0|          27|\n",
      "|03/04/2019 20:13:06|       loc0|          27|\n",
      "|03/04/2019 20:18:06|       loc0|          27|\n",
      "|03/04/2019 20:23:06|       loc0|          29|\n",
      "|03/04/2019 20:28:06|       loc0|          32|\n",
      "|03/04/2019 20:33:06|       loc0|          35|\n",
      "+-------------------+-----------+------------+\n",
      "only showing top 10 rows\n",
      "\n"
     ]
    }
   ],
   "source": [
    "df1.show(10)"
   ]
  },
  {
   "cell_type": "code",
   "execution_count": 4,
   "metadata": {},
   "outputs": [],
   "source": [
    "df1.write.csv('df1.csv')"
   ]
  },
  {
   "cell_type": "code",
   "execution_count": 6,
   "metadata": {},
   "outputs": [
    {
     "name": "stdout",
     "output_type": "stream",
     "text": [
      "_SUCCESS\n",
      "part-00000-5ab67295-1daa-4529-bde9-967d8f87e6b0-c000.csv\n",
      "part-00001-5ab67295-1daa-4529-bde9-967d8f87e6b0-c000.csv\n",
      "part-00002-5ab67295-1daa-4529-bde9-967d8f87e6b0-c000.csv\n",
      "part-00003-5ab67295-1daa-4529-bde9-967d8f87e6b0-c000.csv\n"
     ]
    }
   ],
   "source": [
    "#! everything after in shell is a command\n",
    "! ls df1.csv"
   ]
  },
  {
   "cell_type": "code",
   "execution_count": 8,
   "metadata": {},
   "outputs": [
    {
     "name": "stdout",
     "output_type": "stream",
     "text": [
      "03/04/2019 19:48:06,loc0,29\n",
      "03/04/2019 19:53:06,loc0,27\n",
      "03/04/2019 19:58:06,loc0,28\n",
      "03/04/2019 20:03:06,loc0,30\n",
      "03/04/2019 20:08:06,loc0,27\n",
      "03/04/2019 20:13:06,loc0,27\n",
      "03/04/2019 20:18:06,loc0,27\n",
      "03/04/2019 20:23:06,loc0,29\n",
      "03/04/2019 20:28:06,loc0,32\n",
      "03/04/2019 20:33:06,loc0,35\n"
     ]
    }
   ],
   "source": [
    "! head df1.csv/part-00000-5ab67295-1daa-4529-bde9-967d8f87e6b0-c000.csv"
   ]
  },
  {
   "cell_type": "code",
   "execution_count": 9,
   "metadata": {},
   "outputs": [],
   "source": [
    "df1.write.json('df1.json')"
   ]
  },
  {
   "cell_type": "code",
   "execution_count": 10,
   "metadata": {},
   "outputs": [
    {
     "name": "stdout",
     "output_type": "stream",
     "text": [
      "_SUCCESS\n",
      "part-00000-6c2d74cb-007b-49b7-b8b2-361e9cc1a078-c000.json\n",
      "part-00001-6c2d74cb-007b-49b7-b8b2-361e9cc1a078-c000.json\n",
      "part-00002-6c2d74cb-007b-49b7-b8b2-361e9cc1a078-c000.json\n",
      "part-00003-6c2d74cb-007b-49b7-b8b2-361e9cc1a078-c000.json\n"
     ]
    }
   ],
   "source": [
    "! ls df1.json"
   ]
  },
  {
   "cell_type": "code",
   "execution_count": 11,
   "metadata": {},
   "outputs": [
    {
     "name": "stdout",
     "output_type": "stream",
     "text": [
      "{\"event_date\":\"03/04/2019 19:48:06\",\"location_id\":\"loc0\",\"temp_celcius\":\"29\"}\n",
      "{\"event_date\":\"03/04/2019 19:53:06\",\"location_id\":\"loc0\",\"temp_celcius\":\"27\"}\n",
      "{\"event_date\":\"03/04/2019 19:58:06\",\"location_id\":\"loc0\",\"temp_celcius\":\"28\"}\n",
      "{\"event_date\":\"03/04/2019 20:03:06\",\"location_id\":\"loc0\",\"temp_celcius\":\"30\"}\n",
      "{\"event_date\":\"03/04/2019 20:08:06\",\"location_id\":\"loc0\",\"temp_celcius\":\"27\"}\n",
      "{\"event_date\":\"03/04/2019 20:13:06\",\"location_id\":\"loc0\",\"temp_celcius\":\"27\"}\n",
      "{\"event_date\":\"03/04/2019 20:18:06\",\"location_id\":\"loc0\",\"temp_celcius\":\"27\"}\n",
      "{\"event_date\":\"03/04/2019 20:23:06\",\"location_id\":\"loc0\",\"temp_celcius\":\"29\"}\n",
      "{\"event_date\":\"03/04/2019 20:28:06\",\"location_id\":\"loc0\",\"temp_celcius\":\"32\"}\n",
      "{\"event_date\":\"03/04/2019 20:33:06\",\"location_id\":\"loc0\",\"temp_celcius\":\"35\"}\n"
     ]
    }
   ],
   "source": [
    "! head df1.json/part-00000-6c2d74cb-007b-49b7-b8b2-361e9cc1a078-c000.json"
   ]
  },
  {
   "cell_type": "code",
   "execution_count": 15,
   "metadata": {},
   "outputs": [],
   "source": [
    " df1.write.parquet('df1.parquet')"
   ]
  },
  {
   "cell_type": "code",
   "execution_count": 16,
   "metadata": {},
   "outputs": [
    {
     "name": "stdout",
     "output_type": "stream",
     "text": [
      "ls: head: No such file or directory\n",
      "df1.parquet:\n",
      "_SUCCESS\n",
      "part-00000-0d3e8e98-8f5d-43f5-a907-d3270f1a2b24-c000.snappy.parquet\n",
      "part-00001-0d3e8e98-8f5d-43f5-a907-d3270f1a2b24-c000.snappy.parquet\n",
      "part-00002-0d3e8e98-8f5d-43f5-a907-d3270f1a2b24-c000.snappy.parquet\n",
      "part-00003-0d3e8e98-8f5d-43f5-a907-d3270f1a2b24-c000.snappy.parquet\n"
     ]
    }
   ],
   "source": [
    "! ls head df1.parquet"
   ]
  },
  {
   "cell_type": "code",
   "execution_count": 17,
   "metadata": {},
   "outputs": [
    {
     "name": "stdout",
     "output_type": "stream",
     "text": [
      "PAR1\u0015\u0004\u0015��N\u0015��\u000e\u0015����\f",
      "<\u0015��\u0003\u0015\u0004\u0000\u0000��'X\u0013\u0000\u0000\u000003/04/2019 19:48:06F\u0017\u0000\u000453V\u0017\u0000J.\u0000\f",
      "20:0J.\u0000\u0001\u0017V.\u0000\u00001V.\u0000\u00001V.\u0000\u00002V.\u0000\u00002V.\u0000\u00003V.\u0000\u00003V.\u0000\u00004V.\u0000N\u0014\u0001\u000420R\u0014\u0001\u0001\u0017N\\\u0000\u00001V\u0014\u0001\u00041:R\u0014\u0001\u00001V\u0014\u0001\u00001V\u0014\u0001\u00001V\u0014\u0001\u00001V\u0014\u0001\u00001V\u0014\u0001\u00001V\u0014\u0001\u00001V\u0014\u0001\u00001V\u0014\u0001\u00001V\u0014\u0001\u00041:R\u0014\u0001\u00002V\u0014\u0001\u00002V\u0014\u0001\u00002V\u0014\u0001\u00002V\u0014\u0001\u00002V\u0014\u0001\u00002V\u0014\u0001\u00002V\u0014\u0001\u00002V\u0014\u0001\u00002V\u0014\u0001\u00002V\u0014\u0001\u00002V\u0014\u0001\u00002V\u0014\u0001\u00003V\u0014\u0001\u00003V\u0014\u0001\u00003V\u0014\u0001\u00003V\u0014\u0001\u00003V\u0014\u0001\u00003V\u0014\u0001\u00003V\u0014\u0001\u00003V\u0014\u0001\u00003V\u0014\u0001\u00003V\u0014\u0001\u00003V\u0014\u0001\u000036\u0014\u0001\u00005��\u00000:P\u0004\u001d",
      "\u0017.j\u0003\u0019\u00172P\u0004\u001d",
      "\u0017V.\u0000!\\��\u0019.2P\u0004\u0019\u00172P\u0004\u001d",
      "\u0017V\\\u00002P\u0004\u0019.2P\u0004\u0019\u00172d\u0005\u001d",
      "\u0017N\\\u0000:P\u0004\u0011.:P\u0004\u0019\u0017R\u0014\u0001:P\u0004\u0019.R\u0014\u0001:P\u0004\u0019.R\u0014\u0001:P\u0004\u0019.R\u0014\u0001:P\u0004\u0019.R\u0014\u0001:P\u0004\u0011.:P\u0004\u001d",
      "\u0017NB\u0001:P\u0004\u0019.R(\u0002:P\u0004\u0019.R(\u0002:P\u0004\u0019.R(\u0002:P\u0004\u0019.R(\u0002:P\u0004\u0019.R(\u0002:P\u0004\u0011.:P\u0004\u0019\u0017R(\u0002:P\u0004\u0019.R(\u0002:P\u0004\u0019.R(\u0002:P\u0004\u0019.R(\u0002:P\u0004\u0019.R(\u0002ZP\u0004\u000046d\u0005\u0011E\u000046d\u0005\u0019\u0017R\u0014\u0001\u00004V(\u0002\u00004V\u0014\u0001\u00004V(\u0002\u00004V\u0014\u0001\u00004V(\u0002\u00004V\u0014\u0001\u00004V(\u0002\u00004V\u0014\u0001\u00004V(\u0002\u00005V\u0014\u0001\u00005V\u0014\u0001\u00005V\u0014\u0001\u00005V\u0014\u0001\u00005V\u0014\u0001\u00005V\u0014\u0001\u00005V\u0014\u0001\u00005V\u0014\u0001\u00005V\u0014\u0001\u00005V\u0014\u0001\u00005V\u0014\u0001\u00005V\u0014\u0001\u00006V\u0014\u0001\u00006V\u0014\u0001\u00006V\u0014\u0001\u00006V\u0014\u0001\u00006V\u0014\u0001\u00006V\u0014\u0001\u00006V\u0014\u0001\u00006V\u0014\u0001\u00006V\u0014\u0001\u00006V\u0014\u0001\u00006V\u0014\u0001\u00006V\u0014\u0001\u00007V\u0014\u0001\u00007V\u0014\u0001\u00007V\u0014\u0001\u00007V\u0014\u0001\u00007V\u0014\u0001\u00007V\u0014\u0001\u00007V\u0014\u0001\u00007V\u0014\u0001\u00007V\u0014\u0001\u00007V\u0014\u0001\u00007V\u0014\u0001\u00007V\u0014\u0001\u00008V\u0014\u0001\u00008V\u0014\u0001\u00008V\u0014\u0001\u00008V\u0014\u0001\u00008V\u0014\u0001\u00008V\u0014\u0001\u00008V\u0014\u0001\u00008V\u0014\u0001\u00008V\u0014\u0001\u00008V\u0014\u0001\u00008V\u0014\u0001\u00008V\u0014\u0001\u00009V\u0014\u0001\u00009V\u0014\u0001\u00009V\u0014\u0001\u00009V\u0014\u0001\u00009V\u0014\u0001\u00009V\u0014\u0001\u00009V\u0014\u0001\u00009V\u0014\u0001\u00009V\u0014\u0001:\u0018\u000f�\u001c",
      "\u00009V\u0014\u0001\u00009R\u0014\u0001\u00001V�\n",
      "\u0001\u0017J\u000410R\u0014\u0001\u0001\u0017V.\u0000N�\u0007\u000410R\u0014\u0001\u000410R\u0014\u0001\u0001\u0017V\\\u0000N�\u0007\u000410R(\u0002\u00001:\u0018\u000f-+\u0001\u0017N\\\u0000V�\n",
      "\u0001\u0017V.\u0000N�\u0007\u00001V�\n",
      "\u00001:\u0018\u000f\u0011�V�\n",
      "\u00001:\u0018\u000f\u0019.R\u0014\u0001:\u0018\u000f\u0019.N�\t\u00001:\u0018\u000f\u0019.R\u0014\u0001V�\n",
      "\u0001\u0017N\u0014\u0001V�\n",
      "\u0001\u0017V.\u0000R(\u0002:\u0018\u000f\u0011�V�\n",
      "\u0001\u0017V\\\u0000R(\u0002:\u0018\u000f\u0019\\N�\t\u00001:\u0018\u000f\u0011.V�\n",
      "\u0001\u0017N�\u0000:\u0018\u000f\u0019ER\u0014\u0001:\u0018\u000f\u0019.N�\u000b",
      "\u00001:\u0018\u000f\u0019.R\u0014\u0001:\u0018\u000f\u0019.R(\u0002:\u0018\u000f\u0019.R(\u0002V�\n",
      "\u0001\u0017N\u0014\u0001\u00004V<\u0003V�\n"
     ]
    }
   ],
   "source": [
    "! head df1.parquet/part-00000-0d3e8e98-8f5d-43f5-a907-d3270f1a2b24-c000.snappy.parquet\n",
    "\n"
   ]
  },
  {
   "cell_type": "code",
   "execution_count": 22,
   "metadata": {},
   "outputs": [],
   "source": [
    "df1.write.mode('overwrite').csv('df1-gzip.csv', compression=\"gzip\")  # Python-only"
   ]
  },
  {
   "cell_type": "code",
   "execution_count": null,
   "metadata": {},
   "outputs": [],
   "source": []
  }
 ],
 "metadata": {
  "kernelspec": {
   "display_name": "Python 3 (ipykernel)",
   "language": "python",
   "name": "python3"
  },
  "language_info": {
   "codemirror_mode": {
    "name": "ipython",
    "version": 3
   },
   "file_extension": ".py",
   "mimetype": "text/x-python",
   "name": "python",
   "nbconvert_exporter": "python",
   "pygments_lexer": "ipython3",
   "version": "3.12.3"
  }
 },
 "nbformat": 4,
 "nbformat_minor": 4
}
