{
 "cells": [
  {
   "cell_type": "code",
   "execution_count": 1,
   "metadata": {
    "collapsed": true
   },
   "outputs": [],
   "source": [
    "from pyspark.sql import SparkSession\n",
    "from pyspark.ml.regression import LinearRegression\n",
    "from pyspark.ml.feature import VectorAssembler"
   ]
  },
  {
   "cell_type": "code",
   "execution_count": 2,
   "metadata": {
    "collapsed": true
   },
   "outputs": [],
   "source": [
    "spark = SparkSession.builder.getOrCreate()"
   ]
  },
  {
   "cell_type": "code",
   "execution_count": 3,
   "metadata": {
    "collapsed": true
   },
   "outputs": [],
   "source": [
    "data_path = '/Users/danielsullivan/LinkedIn Learning/Spark SQL/data'"
   ]
  },
  {
   "cell_type": "code",
   "execution_count": 4,
   "metadata": {
    "collapsed": true
   },
   "outputs": [],
   "source": [
    "json_df2_path = data_path + \"/utilization.json\"\n",
    "df_util = spark.read.format(\"json\").load(json_df2_path)"
   ]
  },
  {
   "cell_type": "code",
   "execution_count": 5,
   "metadata": {},
   "outputs": [
    {
     "name": "stdout",
     "output_type": "stream",
     "text": [
      "+---------------+-------------------+-----------+---------+-------------+--------+\n",
      "|cpu_utilization|     event_datetime|free_memory|server_id|session_count|features|\n",
      "+---------------+-------------------+-----------+---------+-------------+--------+\n",
      "|           0.77|03/16/2019 17:21:40|       0.22|      115|           58|  [0.77]|\n",
      "|           0.53|03/16/2019 17:26:40|       0.23|      115|           64|  [0.53]|\n",
      "|            0.6|03/16/2019 17:31:40|       0.19|      115|           82|   [0.6]|\n",
      "|           0.46|03/16/2019 17:36:40|       0.32|      115|           60|  [0.46]|\n",
      "|           0.77|03/16/2019 17:41:40|       0.49|      115|           84|  [0.77]|\n",
      "|           0.62|03/16/2019 17:46:40|       0.31|      115|           73|  [0.62]|\n",
      "|           0.71|03/16/2019 17:51:40|       0.54|      115|           67|  [0.71]|\n",
      "|           0.67|03/16/2019 17:56:40|       0.54|      115|           83|  [0.67]|\n",
      "|           0.72|03/16/2019 18:01:40|       0.26|      115|           68|  [0.72]|\n",
      "|           0.62|03/16/2019 18:06:40|       0.52|      115|           60|  [0.62]|\n",
      "|           0.58|03/16/2019 18:11:40|       0.23|      115|           60|  [0.58]|\n",
      "|           0.51|03/16/2019 18:16:40|       0.35|      115|           62|  [0.51]|\n",
      "|           0.54|03/16/2019 18:21:40|       0.33|      115|           78|  [0.54]|\n",
      "|           0.84|03/16/2019 18:26:40|       0.35|      115|           66|  [0.84]|\n",
      "|           0.65|03/16/2019 18:31:40|       0.51|      115|           89|  [0.65]|\n",
      "|            0.8|03/16/2019 18:36:40|       0.25|      115|           76|   [0.8]|\n",
      "|           0.66|03/16/2019 18:41:40|       0.41|      115|           87|  [0.66]|\n",
      "|           0.67|03/16/2019 18:46:40|       0.36|      115|           62|  [0.67]|\n",
      "|           0.63|03/16/2019 18:51:40|       0.54|      115|           67|  [0.63]|\n",
      "|           0.51|03/16/2019 18:56:40|       0.51|      115|           58|  [0.51]|\n",
      "+---------------+-------------------+-----------+---------+-------------+--------+\n",
      "only showing top 20 rows\n",
      "\n"
     ]
    }
   ],
   "source": [
    "vectorAssembler = VectorAssembler(inputCols=[\"cpu_utilization\"], outputCol=\"features\")\n",
    "df_vutil = vectorAssembler.transform(df_util)\n",
    "df_vutil.show()"
   ]
  },
  {
   "cell_type": "code",
   "execution_count": 6,
   "metadata": {
    "collapsed": true
   },
   "outputs": [],
   "source": [
    "lr = LinearRegression(featuresCol=\"features\",labelCol=\"session_count\")"
   ]
  },
  {
   "cell_type": "code",
   "execution_count": 7,
   "metadata": {
    "collapsed": true
   },
   "outputs": [],
   "source": [
    "lrModel = lr.fit(df_vutil)"
   ]
  },
  {
   "cell_type": "code",
   "execution_count": 8,
   "metadata": {},
   "outputs": [
    {
     "data": {
      "text/plain": [
       "DenseVector([47.024])"
      ]
     },
     "execution_count": 8,
     "metadata": {},
     "output_type": "execute_result"
    }
   ],
   "source": [
    "lrModel.coefficients"
   ]
  },
  {
   "cell_type": "code",
   "execution_count": 9,
   "metadata": {},
   "outputs": [
    {
     "data": {
      "text/plain": [
       "40.41695103550495"
      ]
     },
     "execution_count": 9,
     "metadata": {},
     "output_type": "execute_result"
    }
   ],
   "source": [
    "lrModel.intercept"
   ]
  },
  {
   "cell_type": "code",
   "execution_count": 10,
   "metadata": {},
   "outputs": [
    {
     "data": {
      "text/plain": [
       "12.837990225931527"
      ]
     },
     "execution_count": 10,
     "metadata": {},
     "output_type": "execute_result"
    }
   ],
   "source": [
    "lrModel.summary.rootMeanSquaredError"
   ]
  }
 ],
 "metadata": {
  "kernelspec": {
   "display_name": "Python 3",
   "language": "python",
   "name": "python3"
  },
  "language_info": {
   "codemirror_mode": {
    "name": "ipython",
    "version": 3
   },
   "file_extension": ".py",
   "mimetype": "text/x-python",
   "name": "python",
   "nbconvert_exporter": "python",
   "pygments_lexer": "ipython3",
   "version": "3.6.1"
  }
 },
 "nbformat": 4,
 "nbformat_minor": 2
}
