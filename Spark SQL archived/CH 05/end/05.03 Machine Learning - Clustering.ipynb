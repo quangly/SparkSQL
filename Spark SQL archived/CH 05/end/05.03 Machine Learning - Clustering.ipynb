{
 "cells": [
  {
   "cell_type": "code",
   "execution_count": 1,
   "metadata": {
    "collapsed": true
   },
   "outputs": [],
   "source": [
    "from pyspark.sql import SparkSession\n",
    "from pyspark.ml.linalg import Vectors\n",
    "from pyspark.ml.feature import VectorAssembler\n",
    "from pyspark.ml.clustering import KMeans"
   ]
  },
  {
   "cell_type": "code",
   "execution_count": 2,
   "metadata": {
    "collapsed": true
   },
   "outputs": [],
   "source": [
    "spark = SparkSession.builder.getOrCreate()"
   ]
  },
  {
   "cell_type": "code",
   "execution_count": 3,
   "metadata": {
    "collapsed": true
   },
   "outputs": [],
   "source": [
    "data_path = '/Users/danielsullivan/LinkedIn Learning/Spark SQL/data'"
   ]
  },
  {
   "cell_type": "code",
   "execution_count": 4,
   "metadata": {
    "collapsed": true
   },
   "outputs": [],
   "source": [
    "json_df2_path = data_path + \"/utilization.json\"\n",
    "df_util = spark.read.format(\"json\").load(json_df2_path)"
   ]
  },
  {
   "cell_type": "code",
   "execution_count": 5,
   "metadata": {
    "collapsed": true
   },
   "outputs": [],
   "source": [
    "vectorAssembler = VectorAssembler(inputCols=[\"cpu_utilization\", \"free_memory\", \"session_count\"], outputCol=\"features\")"
   ]
  },
  {
   "cell_type": "code",
   "execution_count": 6,
   "metadata": {
    "collapsed": true
   },
   "outputs": [],
   "source": [
    "vcluster_df = vectorAssembler.transform(df_util)"
   ]
  },
  {
   "cell_type": "code",
   "execution_count": 7,
   "metadata": {},
   "outputs": [
    {
     "name": "stdout",
     "output_type": "stream",
     "text": [
      "+---------------+-------------------+-----------+---------+-------------+----------------+\n",
      "|cpu_utilization|     event_datetime|free_memory|server_id|session_count|        features|\n",
      "+---------------+-------------------+-----------+---------+-------------+----------------+\n",
      "|           0.77|03/16/2019 17:21:40|       0.22|      115|           58|[0.77,0.22,58.0]|\n",
      "|           0.53|03/16/2019 17:26:40|       0.23|      115|           64|[0.53,0.23,64.0]|\n",
      "|            0.6|03/16/2019 17:31:40|       0.19|      115|           82| [0.6,0.19,82.0]|\n",
      "|           0.46|03/16/2019 17:36:40|       0.32|      115|           60|[0.46,0.32,60.0]|\n",
      "|           0.77|03/16/2019 17:41:40|       0.49|      115|           84|[0.77,0.49,84.0]|\n",
      "|           0.62|03/16/2019 17:46:40|       0.31|      115|           73|[0.62,0.31,73.0]|\n",
      "|           0.71|03/16/2019 17:51:40|       0.54|      115|           67|[0.71,0.54,67.0]|\n",
      "|           0.67|03/16/2019 17:56:40|       0.54|      115|           83|[0.67,0.54,83.0]|\n",
      "|           0.72|03/16/2019 18:01:40|       0.26|      115|           68|[0.72,0.26,68.0]|\n",
      "|           0.62|03/16/2019 18:06:40|       0.52|      115|           60|[0.62,0.52,60.0]|\n",
      "|           0.58|03/16/2019 18:11:40|       0.23|      115|           60|[0.58,0.23,60.0]|\n",
      "|           0.51|03/16/2019 18:16:40|       0.35|      115|           62|[0.51,0.35,62.0]|\n",
      "|           0.54|03/16/2019 18:21:40|       0.33|      115|           78|[0.54,0.33,78.0]|\n",
      "|           0.84|03/16/2019 18:26:40|       0.35|      115|           66|[0.84,0.35,66.0]|\n",
      "|           0.65|03/16/2019 18:31:40|       0.51|      115|           89|[0.65,0.51,89.0]|\n",
      "|            0.8|03/16/2019 18:36:40|       0.25|      115|           76| [0.8,0.25,76.0]|\n",
      "|           0.66|03/16/2019 18:41:40|       0.41|      115|           87|[0.66,0.41,87.0]|\n",
      "|           0.67|03/16/2019 18:46:40|       0.36|      115|           62|[0.67,0.36,62.0]|\n",
      "|           0.63|03/16/2019 18:51:40|       0.54|      115|           67|[0.63,0.54,67.0]|\n",
      "|           0.51|03/16/2019 18:56:40|       0.51|      115|           58|[0.51,0.51,58.0]|\n",
      "+---------------+-------------------+-----------+---------+-------------+----------------+\n",
      "only showing top 20 rows\n",
      "\n"
     ]
    }
   ],
   "source": [
    "vcluster_df.show()"
   ]
  },
  {
   "cell_type": "code",
   "execution_count": 8,
   "metadata": {
    "collapsed": true
   },
   "outputs": [],
   "source": [
    "kmeans = KMeans().setK(3)\n",
    "kmeans = kmeans.setSeed(1)"
   ]
  },
  {
   "cell_type": "code",
   "execution_count": 9,
   "metadata": {
    "collapsed": true
   },
   "outputs": [],
   "source": [
    "kmodel = kmeans.fit(vcluster_df)"
   ]
  },
  {
   "cell_type": "code",
   "execution_count": 10,
   "metadata": {},
   "outputs": [
    {
     "data": {
      "text/plain": [
       "[array([  0.51439668,   0.48445202,  50.49452021]),\n",
       " array([  0.71174897,   0.28808911,  86.87510507]),\n",
       " array([  0.61918113,   0.38080285,  68.75004716])]"
      ]
     },
     "execution_count": 10,
     "metadata": {},
     "output_type": "execute_result"
    }
   ],
   "source": [
    "kmodel.clusterCenters()"
   ]
  }
 ],
 "metadata": {
  "kernelspec": {
   "display_name": "Python 3",
   "language": "python",
   "name": "python3"
  },
  "language_info": {
   "codemirror_mode": {
    "name": "ipython",
    "version": 3
   },
   "file_extension": ".py",
   "mimetype": "text/x-python",
   "name": "python",
   "nbconvert_exporter": "python",
   "pygments_lexer": "ipython3",
   "version": "3.6.1"
  }
 },
 "nbformat": 4,
 "nbformat_minor": 2
}
