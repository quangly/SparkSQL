{
 "cells": [
  {
   "cell_type": "code",
   "execution_count": 1,
   "metadata": {
    "collapsed": true
   },
   "outputs": [],
   "source": [
    "from pyspark.sql import SparkSession\n",
    "from pyspark.sql import Row\n",
    "from pyspark.sql.functions import lit\n",
    "from pyspark.sql.types import StringType"
   ]
  },
  {
   "cell_type": "code",
   "execution_count": 2,
   "metadata": {
    "collapsed": true
   },
   "outputs": [],
   "source": [
    "df = sc.parallelize([Row(server_name='101 Server', cpu_utilization=85, session_count=80), \\\n",
    "                             Row(server_name='101 Server', cpu_utilization=80, session_count=90),\n",
    "                             Row(server_name='102 Server', cpu_utilization=85, session_count=40),\n",
    "                             Row(server_name='103 Server', cpu_utilization=70, session_count=80),\n",
    "                             Row(server_name='104 Server', cpu_utilization=60, session_count=80)]).toDF()"
   ]
  },
  {
   "cell_type": "code",
   "execution_count": 3,
   "metadata": {},
   "outputs": [
    {
     "name": "stdout",
     "output_type": "stream",
     "text": [
      "+---------------+-----------+-------------+\n",
      "|cpu_utilization|server_name|session_count|\n",
      "+---------------+-----------+-------------+\n",
      "|             85| 101 Server|           80|\n",
      "|             80| 101 Server|           90|\n",
      "|             85| 102 Server|           40|\n",
      "|             70| 103 Server|           80|\n",
      "|             60| 104 Server|           80|\n",
      "+---------------+-----------+-------------+\n",
      "\n"
     ]
    }
   ],
   "source": [
    "df.show()"
   ]
  },
  {
   "cell_type": "code",
   "execution_count": 4,
   "metadata": {
    "collapsed": true
   },
   "outputs": [],
   "source": [
    "df_na = df.withColumn('na_col', lit(None).cast(StringType()))"
   ]
  },
  {
   "cell_type": "code",
   "execution_count": 5,
   "metadata": {},
   "outputs": [
    {
     "name": "stdout",
     "output_type": "stream",
     "text": [
      "+---------------+-----------+-------------+------+\n",
      "|cpu_utilization|server_name|session_count|na_col|\n",
      "+---------------+-----------+-------------+------+\n",
      "|             85| 101 Server|           80|  null|\n",
      "|             80| 101 Server|           90|  null|\n",
      "|             85| 102 Server|           40|  null|\n",
      "|             70| 103 Server|           80|  null|\n",
      "|             60| 104 Server|           80|  null|\n",
      "+---------------+-----------+-------------+------+\n",
      "\n"
     ]
    }
   ],
   "source": [
    "df_na.show()"
   ]
  },
  {
   "cell_type": "code",
   "execution_count": 6,
   "metadata": {},
   "outputs": [
    {
     "name": "stdout",
     "output_type": "stream",
     "text": [
      "+---------------+-----------+-------------+------+\n",
      "|cpu_utilization|server_name|session_count|na_col|\n",
      "+---------------+-----------+-------------+------+\n",
      "|             85| 101 Server|           80|     A|\n",
      "|             80| 101 Server|           90|     A|\n",
      "|             85| 102 Server|           40|     A|\n",
      "|             70| 103 Server|           80|     A|\n",
      "|             60| 104 Server|           80|     A|\n",
      "+---------------+-----------+-------------+------+\n",
      "\n"
     ]
    }
   ],
   "source": [
    "df_na.fillna('A').show()"
   ]
  },
  {
   "cell_type": "code",
   "execution_count": 7,
   "metadata": {
    "collapsed": true
   },
   "outputs": [],
   "source": [
    "df2 = df_na.fillna('A').union(df_na)"
   ]
  },
  {
   "cell_type": "code",
   "execution_count": 8,
   "metadata": {},
   "outputs": [
    {
     "name": "stdout",
     "output_type": "stream",
     "text": [
      "+---------------+-----------+-------------+------+\n",
      "|cpu_utilization|server_name|session_count|na_col|\n",
      "+---------------+-----------+-------------+------+\n",
      "|             85| 101 Server|           80|     A|\n",
      "|             80| 101 Server|           90|     A|\n",
      "|             85| 102 Server|           40|     A|\n",
      "|             70| 103 Server|           80|     A|\n",
      "|             60| 104 Server|           80|     A|\n",
      "|             85| 101 Server|           80|  null|\n",
      "|             80| 101 Server|           90|  null|\n",
      "|             85| 102 Server|           40|  null|\n",
      "|             70| 103 Server|           80|  null|\n",
      "|             60| 104 Server|           80|  null|\n",
      "+---------------+-----------+-------------+------+\n",
      "\n"
     ]
    }
   ],
   "source": [
    "df2.show()"
   ]
  },
  {
   "cell_type": "code",
   "execution_count": 9,
   "metadata": {},
   "outputs": [
    {
     "name": "stdout",
     "output_type": "stream",
     "text": [
      "+---------------+-----------+-------------+------+\n",
      "|cpu_utilization|server_name|session_count|na_col|\n",
      "+---------------+-----------+-------------+------+\n",
      "|             85| 101 Server|           80|     A|\n",
      "|             80| 101 Server|           90|     A|\n",
      "|             85| 102 Server|           40|     A|\n",
      "|             70| 103 Server|           80|     A|\n",
      "|             60| 104 Server|           80|     A|\n",
      "+---------------+-----------+-------------+------+\n",
      "\n"
     ]
    }
   ],
   "source": [
    "df2.na.drop().show()"
   ]
  },
  {
   "cell_type": "code",
   "execution_count": 10,
   "metadata": {
    "collapsed": true
   },
   "outputs": [],
   "source": [
    "df2.createOrReplaceTempView(\"na_table\")"
   ]
  },
  {
   "cell_type": "code",
   "execution_count": 11,
   "metadata": {},
   "outputs": [
    {
     "name": "stdout",
     "output_type": "stream",
     "text": [
      "+---------------+-----------+-------------+------+\n",
      "|cpu_utilization|server_name|session_count|na_col|\n",
      "+---------------+-----------+-------------+------+\n",
      "|             85| 101 Server|           80|     A|\n",
      "|             80| 101 Server|           90|     A|\n",
      "|             85| 102 Server|           40|     A|\n",
      "|             70| 103 Server|           80|     A|\n",
      "|             60| 104 Server|           80|     A|\n",
      "|             85| 101 Server|           80|  null|\n",
      "|             80| 101 Server|           90|  null|\n",
      "|             85| 102 Server|           40|  null|\n",
      "|             70| 103 Server|           80|  null|\n",
      "|             60| 104 Server|           80|  null|\n",
      "+---------------+-----------+-------------+------+\n",
      "\n"
     ]
    }
   ],
   "source": [
    "spark.sql(\"SELECT * FROM na_table\").show()"
   ]
  },
  {
   "cell_type": "code",
   "execution_count": 12,
   "metadata": {},
   "outputs": [
    {
     "name": "stdout",
     "output_type": "stream",
     "text": [
      "+---------------+-----------+-------------+------+\n",
      "|cpu_utilization|server_name|session_count|na_col|\n",
      "+---------------+-----------+-------------+------+\n",
      "|             85| 101 Server|           80|  null|\n",
      "|             80| 101 Server|           90|  null|\n",
      "|             85| 102 Server|           40|  null|\n",
      "|             70| 103 Server|           80|  null|\n",
      "|             60| 104 Server|           80|  null|\n",
      "+---------------+-----------+-------------+------+\n",
      "\n"
     ]
    }
   ],
   "source": [
    "spark.sql(\"SELECT * FROM na_table WHERE na_col IS NULL\").show()"
   ]
  },
  {
   "cell_type": "code",
   "execution_count": 13,
   "metadata": {},
   "outputs": [
    {
     "name": "stdout",
     "output_type": "stream",
     "text": [
      "+---------------+-----------+-------------+------+\n",
      "|cpu_utilization|server_name|session_count|na_col|\n",
      "+---------------+-----------+-------------+------+\n",
      "|             85| 101 Server|           80|     A|\n",
      "|             80| 101 Server|           90|     A|\n",
      "|             85| 102 Server|           40|     A|\n",
      "|             70| 103 Server|           80|     A|\n",
      "|             60| 104 Server|           80|     A|\n",
      "+---------------+-----------+-------------+------+\n",
      "\n"
     ]
    }
   ],
   "source": [
    "spark.sql(\"SELECT * FROM na_table WHERE na_col IS NOT NULL\").show()"
   ]
  }
 ],
 "metadata": {
  "kernelspec": {
   "display_name": "Python 3",
   "language": "python",
   "name": "python3"
  },
  "language_info": {
   "codemirror_mode": {
    "name": "ipython",
    "version": 3
   },
   "file_extension": ".py",
   "mimetype": "text/x-python",
   "name": "python",
   "nbconvert_exporter": "python",
   "pygments_lexer": "ipython3",
   "version": "3.6.1"
  }
 },
 "nbformat": 4,
 "nbformat_minor": 2
}
