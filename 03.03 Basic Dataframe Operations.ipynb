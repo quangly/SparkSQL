{
 "cells": [
  {
   "cell_type": "code",
   "execution_count": 1,
   "metadata": {},
   "outputs": [],
   "source": [
    "from pyspark.sql import SparkSession"
   ]
  },
  {
   "cell_type": "code",
   "execution_count": 2,
   "metadata": {},
   "outputs": [],
   "source": [
    "data_path = '/Users/quangly/github/Spark SQL/Data'"
   ]
  },
  {
   "cell_type": "code",
   "execution_count": 3,
   "metadata": {},
   "outputs": [
    {
     "name": "stderr",
     "output_type": "stream",
     "text": [
      "                                                                                \r"
     ]
    }
   ],
   "source": [
    "json_df2_path = data_path + \"/utilization.json\"\n",
    "df2 = spark.read.format(\"json\").load(json_df2_path)"
   ]
  },
  {
   "cell_type": "code",
   "execution_count": 4,
   "metadata": {},
   "outputs": [
    {
     "data": {
      "text/plain": [
       "[Row(cpu_utilization=0.57, event_datetime='03/05/2019 08:06:14', free_memory=0.51, server_id=100, session_count=47),\n",
       " Row(cpu_utilization=0.47, event_datetime='03/05/2019 08:11:14', free_memory=0.62, server_id=100, session_count=43),\n",
       " Row(cpu_utilization=0.56, event_datetime='03/05/2019 08:16:14', free_memory=0.57, server_id=100, session_count=62),\n",
       " Row(cpu_utilization=0.57, event_datetime='03/05/2019 08:21:14', free_memory=0.56, server_id=100, session_count=50),\n",
       " Row(cpu_utilization=0.35, event_datetime='03/05/2019 08:26:14', free_memory=0.46, server_id=100, session_count=43),\n",
       " Row(cpu_utilization=0.41, event_datetime='03/05/2019 08:31:14', free_memory=0.58, server_id=100, session_count=48),\n",
       " Row(cpu_utilization=0.57, event_datetime='03/05/2019 08:36:14', free_memory=0.35, server_id=100, session_count=58),\n",
       " Row(cpu_utilization=0.41, event_datetime='03/05/2019 08:41:14', free_memory=0.4, server_id=100, session_count=58),\n",
       " Row(cpu_utilization=0.53, event_datetime='03/05/2019 08:46:14', free_memory=0.35, server_id=100, session_count=62),\n",
       " Row(cpu_utilization=0.51, event_datetime='03/05/2019 08:51:14', free_memory=0.6, server_id=100, session_count=45),\n",
       " Row(cpu_utilization=0.32, event_datetime='03/05/2019 08:56:14', free_memory=0.37, server_id=100, session_count=47),\n",
       " Row(cpu_utilization=0.62, event_datetime='03/05/2019 09:01:14', free_memory=0.59, server_id=100, session_count=60),\n",
       " Row(cpu_utilization=0.66, event_datetime='03/05/2019 09:06:14', free_memory=0.72, server_id=100, session_count=57),\n",
       " Row(cpu_utilization=0.54, event_datetime='03/05/2019 09:11:14', free_memory=0.54, server_id=100, session_count=44),\n",
       " Row(cpu_utilization=0.29, event_datetime='03/05/2019 09:16:14', free_memory=0.4, server_id=100, session_count=47),\n",
       " Row(cpu_utilization=0.43, event_datetime='03/05/2019 09:21:14', free_memory=0.68, server_id=100, session_count=66),\n",
       " Row(cpu_utilization=0.49, event_datetime='03/05/2019 09:26:14', free_memory=0.66, server_id=100, session_count=65),\n",
       " Row(cpu_utilization=0.64, event_datetime='03/05/2019 09:31:14', free_memory=0.55, server_id=100, session_count=66),\n",
       " Row(cpu_utilization=0.42, event_datetime='03/05/2019 09:36:14', free_memory=0.6, server_id=100, session_count=42),\n",
       " Row(cpu_utilization=0.55, event_datetime='03/05/2019 09:41:14', free_memory=0.59, server_id=100, session_count=63)]"
      ]
     },
     "execution_count": 4,
     "metadata": {},
     "output_type": "execute_result"
    }
   ],
   "source": [
    "df2.head(20)"
   ]
  },
  {
   "cell_type": "code",
   "execution_count": 5,
   "metadata": {},
   "outputs": [
    {
     "name": "stdout",
     "output_type": "stream",
     "text": [
      "+---------------+-------------------+-----------+---------+-------------+\n",
      "|cpu_utilization|     event_datetime|free_memory|server_id|session_count|\n",
      "+---------------+-------------------+-----------+---------+-------------+\n",
      "|           0.57|03/05/2019 08:06:14|       0.51|      100|           47|\n",
      "|           0.47|03/05/2019 08:11:14|       0.62|      100|           43|\n",
      "|           0.56|03/05/2019 08:16:14|       0.57|      100|           62|\n",
      "|           0.57|03/05/2019 08:21:14|       0.56|      100|           50|\n",
      "|           0.35|03/05/2019 08:26:14|       0.46|      100|           43|\n",
      "|           0.41|03/05/2019 08:31:14|       0.58|      100|           48|\n",
      "|           0.57|03/05/2019 08:36:14|       0.35|      100|           58|\n",
      "|           0.41|03/05/2019 08:41:14|        0.4|      100|           58|\n",
      "|           0.53|03/05/2019 08:46:14|       0.35|      100|           62|\n",
      "|           0.51|03/05/2019 08:51:14|        0.6|      100|           45|\n",
      "+---------------+-------------------+-----------+---------+-------------+\n",
      "only showing top 10 rows\n",
      "\n"
     ]
    }
   ],
   "source": [
    "df2.show(10)"
   ]
  },
  {
   "cell_type": "code",
   "execution_count": 6,
   "metadata": {},
   "outputs": [
    {
     "data": {
      "text/plain": [
       "500000"
      ]
     },
     "execution_count": 6,
     "metadata": {},
     "output_type": "execute_result"
    }
   ],
   "source": [
    "df2.count()"
   ]
  },
  {
   "cell_type": "code",
   "execution_count": 7,
   "metadata": {},
   "outputs": [
    {
     "data": {
      "text/plain": [
       "['cpu_utilization',\n",
       " 'event_datetime',\n",
       " 'free_memory',\n",
       " 'server_id',\n",
       " 'session_count']"
      ]
     },
     "execution_count": 7,
     "metadata": {},
     "output_type": "execute_result"
    }
   ],
   "source": [
    "df2.columns"
   ]
  },
  {
   "cell_type": "code",
   "execution_count": 8,
   "metadata": {},
   "outputs": [
    {
     "data": {
      "text/plain": [
       "DataFrame[summary: string, cpu_utilization: string, event_datetime: string, free_memory: string, server_id: string, session_count: string]"
      ]
     },
     "execution_count": 8,
     "metadata": {},
     "output_type": "execute_result"
    }
   ],
   "source": [
    "df2.describe()"
   ]
  },
  {
   "cell_type": "code",
   "execution_count": 20,
   "metadata": {},
   "outputs": [],
   "source": [
    "df2_sample = df2.sample(False,fraction=0.1)"
   ]
  },
  {
   "cell_type": "code",
   "execution_count": 21,
   "metadata": {},
   "outputs": [
    {
     "name": "stdout",
     "output_type": "stream",
     "text": [
      "+---------------+-------------------+-----------+---------+-------------+\n",
      "|cpu_utilization|     event_datetime|free_memory|server_id|session_count|\n",
      "+---------------+-------------------+-----------+---------+-------------+\n",
      "|           0.29|03/05/2019 09:46:14|        0.6|      100|           44|\n",
      "|           0.44|03/05/2019 09:56:14|       0.48|      100|           63|\n",
      "|           0.39|03/05/2019 11:36:14|       0.54|      100|           70|\n",
      "|            0.6|03/05/2019 11:41:14|        0.7|      100|           52|\n",
      "|            0.4|03/05/2019 12:06:14|       0.36|      100|           53|\n",
      "|            0.4|03/05/2019 13:21:14|       0.55|      100|           43|\n",
      "|           0.47|03/05/2019 13:56:14|       0.67|      100|           66|\n",
      "|           0.36|03/05/2019 14:26:14|       0.55|      100|           53|\n",
      "|            0.6|03/05/2019 14:51:14|       0.59|      100|           57|\n",
      "|           0.65|03/05/2019 15:21:14|       0.66|      100|           43|\n",
      "|           0.58|03/05/2019 15:26:14|       0.66|      100|           53|\n",
      "|           0.64|03/05/2019 17:01:14|       0.37|      100|           55|\n",
      "|           0.34|03/05/2019 17:26:14|       0.61|      100|           52|\n",
      "|            0.3|03/05/2019 17:31:14|       0.67|      100|           41|\n",
      "|           0.49|03/05/2019 17:41:14|        0.6|      100|           45|\n",
      "|            0.4|03/05/2019 17:51:14|       0.51|      100|           53|\n",
      "|           0.48|03/05/2019 18:01:14|       0.39|      100|           64|\n",
      "|           0.56|03/05/2019 20:31:14|        0.7|      100|           61|\n",
      "|           0.52|03/05/2019 21:46:14|       0.49|      100|           53|\n",
      "|           0.43|03/05/2019 22:21:14|       0.43|      100|           40|\n",
      "+---------------+-------------------+-----------+---------+-------------+\n",
      "only showing top 20 rows\n",
      "\n"
     ]
    }
   ],
   "source": [
    "df2_sample.show()"
   ]
  },
  {
   "cell_type": "code",
   "execution_count": 27,
   "metadata": {},
   "outputs": [],
   "source": [
    "df2_sort = df2_sample.sort('event_datetime',ascending=False)"
   ]
  },
  {
   "cell_type": "code",
   "execution_count": 28,
   "metadata": {},
   "outputs": [
    {
     "name": "stdout",
     "output_type": "stream",
     "text": [
      "+---------------+-------------------+-----------+---------+-------------+\n",
      "|cpu_utilization|     event_datetime|free_memory|server_id|session_count|\n",
      "+---------------+-------------------+-----------+---------+-------------+\n",
      "|           0.51|04/09/2019 01:22:07|       0.25|      130|           61|\n",
      "|           0.93|04/09/2019 01:17:44|       0.37|      148|           83|\n",
      "|           0.76|04/09/2019 01:17:39|       0.24|      146|           94|\n",
      "|           0.47|04/09/2019 01:17:35|       0.35|      144|           66|\n",
      "|           0.58|04/09/2019 01:17:31|       0.37|      142|           94|\n",
      "|           0.68|04/09/2019 01:16:51|       0.36|      121|           85|\n",
      "|           0.74|04/09/2019 01:16:33|       0.54|      110|           54|\n",
      "|           0.55|04/09/2019 01:11:53|       0.21|      122|           73|\n",
      "|           0.69|04/09/2019 01:11:38|        0.4|      113|           78|\n",
      "|           0.59|04/09/2019 01:07:41|       0.49|      147|           59|\n",
      "|           0.39|04/09/2019 01:07:33|       0.63|      143|           39|\n",
      "|           0.31|04/09/2019 01:07:23|       0.61|      138|           53|\n",
      "|           0.48|04/09/2019 01:06:41|       0.37|      115|           63|\n",
      "|           0.61|04/09/2019 01:06:21|       0.17|      103|           99|\n",
      "|           0.61|04/09/2019 01:02:35|       0.31|      144|           78|\n",
      "|           0.93|04/09/2019 01:02:21|       0.39|      137|           92|\n",
      "|           0.54|04/09/2019 01:01:28|       0.51|      107|           65|\n",
      "|           0.58|04/09/2019 01:01:23|       0.42|      104|           76|\n",
      "|           0.67|04/09/2019 01:01:17|       0.15|      101|           74|\n",
      "|           0.86|04/09/2019 00:57:39|       0.44|      146|           84|\n",
      "+---------------+-------------------+-----------+---------+-------------+\n",
      "only showing top 20 rows\n",
      "\n"
     ]
    }
   ],
   "source": [
    "df2_sort.show()"
   ]
  },
  {
   "cell_type": "code",
   "execution_count": null,
   "metadata": {},
   "outputs": [],
   "source": [
    "df2.describe().show()"
   ]
  },
  {
   "cell_type": "code",
   "execution_count": null,
   "metadata": {
    "collapsed": true,
    "jupyter": {
     "outputs_hidden": true
    }
   },
   "outputs": [],
   "source": [
    "df"
   ]
  }
 ],
 "metadata": {
  "kernelspec": {
   "display_name": "Python 3 (ipykernel)",
   "language": "python",
   "name": "python3"
  },
  "language_info": {
   "codemirror_mode": {
    "name": "ipython",
    "version": 3
   },
   "file_extension": ".py",
   "mimetype": "text/x-python",
   "name": "python",
   "nbconvert_exporter": "python",
   "pygments_lexer": "ipython3",
   "version": "3.12.3"
  }
 },
 "nbformat": 4,
 "nbformat_minor": 4
}
